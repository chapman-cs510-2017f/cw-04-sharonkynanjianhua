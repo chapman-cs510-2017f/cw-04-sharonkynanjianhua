{
 "cells": [
  {
   "cell_type": "code",
   "execution_count": 8,
   "metadata": {
    "collapsed": false
   },
   "outputs": [
   ],
   "source": [
    "import primes"
   ]
  },
  {
   "cell_type": "markdown",
   "metadata": {
    "collapsed": false
   },
   "source": [
    "# The Sieve of Eratosthenes\n",
    "\n",
    "Sharon, Kynan, Jet\n",
    "September 26th, 2017\n",
    "\n",
    "## Description \n",
    "The goal of this algorithm was to find all prime numbers up to \"n\". The Sieve of Eratosthenes algorithm works just like the title.  First, all positive integers are generated in a list up to \"n\" starting with 2. Since 2 is a prime number, all of the numbers that are a multiple of 2 are removed. Then, we move on to the next number in our list, which is 3. Since 3 is a prime number, all the numbers that are multiples of 3 are removed. This step is repeated until we reach a list of prime numbers from 2 to the largest prime number less than or equal to \"n\".\n",
    "\n",
    "The function that we created, primes.py, returns all prime numbers smaller than the positive interger number input by user from Terminal. The main funtion first checks if the input number is a positive interger and then call eratosthenes module to get all the prime numbers smaller than the positive interger number input by user from Terminal, and print on the terminal. We also decided to use a list to store our data because they can be extended or reduced easily with the append and remove command. We were also more familiar with the functionality of lists.\n",
    "\n",
    "## Algorithm\n",
    "In the eratosthenes module, it first generates all positive integers less than n by calling a generator, starting from the number 2. Then remove all multiples of 2. Then remove all multiples of the next largest remaining (prime) number (using % mod operator), see below core codes. Repeat until all remaining numbers go through. Finally, return the set of remaining (prime) numbers. \n"
   ]
  },
  {
   "cell_type": "markdown",
   "metadata": {
    "collapsed": false
   },
   "source": [
    "'''Python-primes.py\n",
    "    #remove all multiples of the next largest remaining (prime) number (using % mod operator)\n",
    "    for _ in range(0, lenList-1):\n",
    "        i = 0\n",
    "        prime=True,\n",
    "        while listRM[i] < largestNum:\n",
    "            if largestNum % listRM[i] == 0:\n",
    "                prime=False\n",
    "                break\n",
    "            else:\n",
    "                prime=True        \n",
    "            i += 1\n",
    "            \n",
    "        if prime == False:\n",
    "            listRM.remove(largestNum)\n",
    "            lenList -= 1\n",
    "        \n",
    "        idxList -= 1\n",
    "        largestNum = listRM[idxList-1]\n",
    "'''"
   ]
  },
  {
   "cell_type": "markdown",
   "metadata": {
    "collapsed": false
   },
   "source": [
    "### The mod operator was used in the code:\n",
    "$largestNum \\% listRM[i] == 0 $"
   ]
  },
  {
   "cell_type": "markdown",
   "metadata": {
    "collapsed": false
   },
   "source": [
    "## Example1 return all prime less than 100"
   ]
  },
  {
   "cell_type": "code",
   "execution_count": 11,
   "metadata": {
    "collapsed": false
   },
   "outputs": [
   ],
   "source": [
    "import primes\n",
    "primes.eratosthenes(100)"
   ]
  },
  {
   "cell_type": "markdown",
   "metadata": {
    "collapsed": false
   },
   "source": [
    "## Generating Prime Number\n",
    "In the previous Eratosthenes algorithm where we used the function eratosthenes(), we composed a list and then selected the prime numbers, now in this alternative algorithm gen_eratosthenes(), we use a generator to yield a list that contains only prime numbers. We just need to give a command of how many prime numbers we want in our list. Modifying the code to use the generator method makes the algorithm much more efficient because we do not have to run a loop through the list and remove numbers that are multiples of primes. We decided to use a list to store our data again because it works very well with a generator along with the yield command to store the sequence of prime numbers."
   ]
  },
  {
   "cell_type": "markdown",
   "metadata": {
    "collapsed": false
   },
   "source": [
    "'''Python-gen_eratosthenes\n",
    "\n",
    "    def prime_check(Num, primeList):\n",
    "        for primeNum in primeList:\n",
    "            if Num % primeNum == 0:\n",
    "                return False\n",
    "        return True\n",
    "\n",
    "\n",
    "    def gen_eratosthenes():\n",
    "        primeList = []\n",
    "        num = 2\n",
    "        while True:\n",
    "            primeList.append(num)\n",
    "            yield num\n",
    "            num = num + 1\n",
    "            while prime_check(num, primeList) == False:\n",
    "                num = num + 1\n",
    "\n",
    "'''"
   ]
  },
  {
   "cell_type": "markdown",
   "metadata": {
    "collapsed": false
   },
   "source": [
    "## Benchmarking Implementations\n",
    "### first algorithm (eratosthenes)"
   ]
  },
  {
   "cell_type": "code",
   "execution_count": 3,
   "metadata": {
    "collapsed": false,
    "scrolled": true
   },
   "outputs": [
    {
     "name": "stdout",
     "output_type": "stream",
     "text": [
      "314 µs ± 58.9 µs per loop (mean ± std. dev. of 7 runs, 1000 loops each)\n"
     ]
    }
   ],
   "source": [
    "import primes\n",
    "%timeit primes.eratosthenes(80)\n"
   ]
  },
  {
   "cell_type": "markdown",
   "metadata": {
    "collapsed": false
   },
   "source": [
    "### second algorithm (generator)"
   ]
  },
  {
   "cell_type": "code",
   "execution_count": 6,
   "metadata": {
    "collapsed": false
   },
   "outputs": [
    {
     "name": "stdout",
     "output_type": "stream",
     "text": [
      "20.6 µs ± 2.38 µs per loop (mean ± std. dev. of 7 runs, 10000 loops each)\n"
     ]
    }
   ],
   "source": [
    "import primes\n",
    "\n",
    "def try_gen_prime(n):\n",
    "    g = primes.gen_eratosthenes()\n",
    "    p = next(g)\n",
    "    primeList =[p]\n",
    "    while p < n:\n",
    "        p = next(g)\n",
    "        primeList.append(p)\n",
    "    return primeList\n",
    "\n",
    "%timeit try_gen_prime(40)"
   ]
  },
  {
   "cell_type": "code",
   "execution_count": 0,
   "metadata": {
    "collapsed": false
   },
   "outputs": [
   ],
   "source": [
    "The first algorithm uses a generator to create a lost from 2 to n and removes values when they are multiples of the primes that are in the list, while the second algorithm uses only one generator and the yield command to display a list of prime numbers, thus the 2nd algorithm is much faster than the 1st algorithm."
   ]
  }
 ],
 "metadata": {
  "kernelspec": {
   "display_name": "Python 3 (Ubuntu Linux)",
   "language": "python",
   "name": "python3"
  },
  "language_info": {
   "codemirror_mode": {
    "name": "ipython",
    "version": 3
   },
   "file_extension": ".py",
   "mimetype": "text/x-python",
   "name": "python",
   "nbconvert_exporter": "python",
   "pygments_lexer": "ipython3",
   "version": "3.5.2"
  }
 },
 "nbformat": 4,
 "nbformat_minor": 0
}
